{
 "cells": [
  {
   "cell_type": "markdown",
   "metadata": {},
   "source": [
    "COLUMN GENERATION FOR CUTTING-STOCK PROBLEM\n",
    "==============\n",
    "Cutting-Stock problem solved through a reinterpretation of the column generation method\n",
    "\n",
    "**Author:** *MATTEO GARBELLI - Student ID : VR409285*\n",
    "\n",
    "##### University of Verona \n",
    "##### Academic year: 2018-2019\n",
    "\n",
    "## Abstract\n",
    "\n",
    "In operations research, to solve a problem that is too large or too complex, it useful to decomposed it into  easier problems: this is the key idea behind Column Generation (GC) method. CG is a scheme for solving large scale linear programming (LP) problems. Instead of pricing out nonbasic variables by enumeration, in a column generation approach the optimal reduced price is found by solving an optimization problem.In some cases, as in the cutting stock problem, the LP is a relaxation of an integer programming (IP) problem. However, when an LP relaxation is solved by column generation, the solution is not necessarily integer and it is not clear how to obtain an optimal or even a feasible integer solution to the initial IP. In this project  an algorithm for the Cutting-Stock problem is presented and implemented. The problem solution gives not only the minimum number of\n",
    "rolls necessary to meet the demand, but also specifies the optimal patterns.\n",
    "        \n",
    "## Chapter One: Overview on linear programming\n",
    "\n",
    "Any Linear Programming (LP) problem can be written as \n",
    "$$\\min cx$$\n",
    "such that\n",
    "$$A'x \\geq b'$$\n",
    "$$ x \\geq 0$$\n",
    "where $x \\in \\mathbb{R}^n$ is a vector of n real variables that represents the solution of the problem, $A' \\in \\mathbb{R}^{m \\times n }$ is a matrix while $b' \\in \\mathbb{R}^m$ and $c \\in \\mathbb{R}^n$ \\\\\n",
    "\n",
    "Every LP problem has an associated dual LP problem that is expressed by \n",
    "\n",
    "$$ \\max c'y$$\n",
    "such that\n",
    "$$Ay \\leq b$$\n",
    "$$y \\geq 0$$\n",
    "\n",
    "where $c = -c'$, $A = -A'$ and $b = -b'$.\n",
    "\n",
    "The original problem is denoted as primal problem and by strong duality theorem we know that if the  LP problem has an optimal solution, then objective optimal value of the dual formulation coincides with the one of primal. Indeed the two formulations for primal and dual LP are strictly connected since the first has m inequality constraints ans n non-negative variables and the second viceversa.\n",
    "\n",
    "Since we are a going to solve this problem through a variation of the simplex method that is the Column Ceneration (CG) method, the LP problem must be modelled in standard form as\n",
    "\n",
    "$$\\min z = cx$$\n",
    "\n",
    "such that\n",
    "\n",
    "$$Ax + I\\hat{x} = b$$\n",
    "$$x \\geq 0 $$\n",
    "$$\\hat{x} \\geq 0$$\n",
    "\n",
    "Note that prevoius inequalities are written in form of linear equalities through the introduction of slack variables $\\hat{x}$ and the objective function is expressed in minimization terms."
   ]
  },
  {
   "cell_type": "markdown",
   "metadata": {},
   "source": [
    "## Chapter Two: formulation of the Cutting-Stock problem\n",
    "\n",
    "The Cutting-Stock problem arises from many physical applications in industry. \n",
    "For example, in a paper mill, there are a number of rolls of paper of fixed width waiting to be cut, yet different firms want different numbers of rolls of various-sized widths.\n",
    "\n",
    "How should the rolls be cut in order to minimize the wasted leftovers?  \n",
    "\n",
    "We start by formulating the problem as Integer Linear Programming (ILP).\n",
    "\n",
    "Main parameters and assumptions necessary for constructing the model are:\n",
    "\n",
    "\n",
    "* a set of items $\\mathit{i}\\in\\mathcal{I} = (1, . . . , m)$;\n",
    "* to each item $\\mathit{i}$ a lenght $l_{\\mathit{i}}$  and a demand $N_{\\mathit{i}}$ are assigned;\n",
    "* $W_S$ is the width of the initial stock that has to be cut into smaller  pieces;\n",
    "* we assume that the cost of cutting a stock per unit width is equal to 1;\n",
    "* $a_{\\mathbf{i}\\mathbf{p}}$ number of pieces of item $\\mathit{i}\\in\\mathcal{I}$ cut in pattern $\\mathit{p}\\in\\mathcal{P}= (1, . . . , n)$\n",
    "\n"
   ]
  },
  {
   "cell_type": "markdown",
   "metadata": {},
   "source": [
    "The aim of the optimization problem is to minimize the cost function by finding the optimal patterns that minimize the number of initial stocks used (and so the wasted material) by\n",
    "\n",
    "$$\\min\\sum_{\\mathbf{p}\\in\\mathcal{P}}x_{\\mathbf{p}}$$\n",
    "\n",
    "where $(x_1,...,x_n)$ are the decision variables assigned to each activities corresponding to the number of times a cutting pattern $\\mathbf{p}$ is used.\n",
    "\n",
    "The problem is subjected to the following constraints:\n",
    "\n",
    "* demands $N_{\\mathbf{i}}$ for each item $\\mathbf{i}$ must be fulfilled $$\\sum_{\\mathbf{p}\\in\\mathcal{P}}a_{\\mathbf{i}\\mathbf{p}}x_{\\mathbf{p}}\\geq N_{\\mathbf{i}}\\hspace{1cm} \\forall\\mathbf{i}\\in\\mathcal{I}$$\n",
    "\n",
    "* variables $x_{\\mathbf{p}}$ must be non-negative and assume integer values $$x_{\\mathbf{p}}\\in\\mathbb{Z}_+\\hspace{1cm}\\forall\\mathbf{p}\\in\\mathcal{P}$$\n",
    "\n",
    "* A final verification is required in order to check that the sum of the lenght of each item $l_i$ does not exceed the initial stock width $W_S$\n",
    "$$\\sum_{\\mathbf{i}\\in\\mathcal{I}}a_{\\mathbf{i}\\mathbf{p}}l_{\\mathbf{i}}\\leq{W_S}\\hspace{1cm}\\forall\\mathbf{p}\\in\\mathcal{P}$$"
   ]
  },
  {
   "cell_type": "markdown",
   "metadata": {},
   "source": [
    "First thing we modify the first inequality to have the standard formulation for the LP problem. \n",
    "Therefore, by introducing $m$ slack variables $x_{n+1},...,x_{n+m}$ the Cutting-Stock problem can be solved through finding the $n$ integer $(x_1,...,x_n)$ that satisfies\n",
    "\n",
    "$$\\min\\sum_{i=1,...,n}x_i$$\n",
    "$$a_{i1}x_1+...+a_{in}x_n- x_{n+i}=N_i\\hspace{0.5cm}i=(1,...,m)$$\n",
    "$$x_j\\geq{0}\\hspace{0.5cm}(j=1,...,n+m)$$\n",
    "\n",
    "Since the beginning we underline the principal issues related to this model that are the size of variables involved, in particular of the decision variable and also the restriction to integers.\n",
    "\n",
    "Considering the restriction to integers we can remove this assumption and solve the Linear Relaxation of the problem that is in general posed in linear programming setting that can have a solution in general is not integer. \n",
    "Rounding up to the nearest integer value can be a simple solution to deal with this warning but it essential to underline that solving the linear relaxation deals with a polynomial time algorithm (LP is a P-problem) while the original cutting-stock requires an algorithm that lies in the NP-complete class."
   ]
  },
  {
   "cell_type": "markdown",
   "metadata": {},
   "source": [
    "## Chapter Three: Column Generation\n",
    "\n",
    "The principal motivation behind Column Generation (CG) is that many linear programs are too large to consider all the variables and the constraints in an explicit way. \n",
    "Main issue to consider is that most of the variables involved are non basic that will assume a value of zero for the optimal solution and therefore only a subset of variables need to be considered.\n",
    "Column generation exploits this idea to generate such variables which have the potential to improve the objective function. \n",
    "\n",
    "The problemis split into two simpler problems denoted as the master problem and the subproblems.\n",
    "* master problem is the original problem with only a subset of variables being considered (basic variables);\n",
    "* subproblems deals with the maximization in a feasible pattern dealing with a pricing problem. The objective function of the subproblem is the reduced cost of the new variable with respect to the current dual variables.\n",
    "\n",
    "The process works as follows: the master problem is solved and from this solution, we are able to obtain dual prices related to each of the constraints in the master problem. \n",
    "Dual prices are then used to compute the reduced costs that measures the amount by which the variable in the objective function needs to improve before it assumes a positive value.\n",
    "In the Cutting-Stock case the auxiliary problems can be formulated as knapsack problems.\n",
    "After solving the subproblem a variable with negative reduced cost can been identified and this variable is added to the master problem and the iterative process starts until no negative reduced cost variables are identified. \n",
    "When the subproblem returns a solution with non-negative reduced cost, we can conclude that the solution to the master problem is optimal."
   ]
  },
  {
   "cell_type": "markdown",
   "metadata": {},
   "source": [
    "### Linear Relaxation\n",
    "\n",
    "\n",
    "\n",
    "To answer we need to exploit the dual structure of the problem.  \n",
    "\n",
    "1. Consider new patterns; at every iteration we require a feaible basic solution for the primal problem and a dual solution satisfying the complementary slackness condtion.\n",
    "\n",
    "2. If dealing with the new pattern it makes the dual constraint violated that in other words corresponds to the fact that the associated primal variable has negative reduced cost, the current solution is no optimal and it is suggested to let this variable enter the basis, generating a new column in the matrix.\n",
    "\n",
    "3. The process iterates with the aim to find a  pattern (corresponding to a new column) whit negative reduced cost in order to insert it in the matrix as column.\n",
    "\n",
    "It is necessary to make a warning recalling to what we have said in the begininning: the numbers of patterns is exponentially great and since their combinatorial nature there is not an explicit way to express them.\n",
    "\n",
    "\n",
    "In order to face off this aspect, we convert this issue into an optimization problem in the following way: since we are looking for a variable with a negative reduced cost, i.e. a violation for the dual constraint, we may require to find the minimum of the reduced costs of all possible variables and check that the minimum is negative that is\n",
    "\n",
    "$$ \\min c = 1 -  \\sum_{i \\in \\mathcal{I}}{y_i^T \\bar{x}_i}$$\n",
    "such that $\\bar{x}$ is a possible candidate column to enter the matrix.\n",
    "\n",
    "Note that every column in the matrix represents a cutting pattern and each entry tells how many pieces of fixed lenght $l_i$ are used in that pattern.\n",
    "\n",
    "\n",
    "Considering also the contraints acting on $\\bar{x}_i$ the subproblem can be formulated as\n",
    "\n",
    "$$\\min c = 1 -  \\sum_{i \\in \\mathcal{I}}{y_i^T \\bar{x}_i}$$\n",
    "$$ \\sum_{i \\in \\mathcal{I}}{L_i\\bar{x}_i} \\leq W$$\n",
    "$$ \\bar{x}_i \\in \\mathbb{Z}_+$$\n",
    "\n",
    "that can be equivalently posed in maximization form as\n",
    "\n",
    "$$\\max \\sum_{i \\in \\mathcal{I}}{y_i^T \\bar{x}_i}$$\n",
    "$$ \\sum_{i \\in \\mathcal{I}}{L_i\\bar{x}_i} \\leq W$$\n",
    "$$ \\bar{x}_i \\in \\mathbb{Z}_+$$\n",
    "\n",
    "Therefore the coefficents $\\bar{x}_i$ with negative reduced costs that are going to enter the matrix can be found through the solution of the above problem that is a known as integer knapsack problem."
   ]
  },
  {
   "cell_type": "markdown",
   "metadata": {},
   "source": [
    "### Example 1\n",
    "\n",
    "We start by finding a solution for the following example, requiring 10 as the initial stock lenght and the following orders and lenghts for each item to be cut"
   ]
  },
  {
   "cell_type": "markdown",
   "metadata": {},
   "source": [
    "| Item   |      Lenght      |  Orders |\n",
    "|-----|:-------------:|:------:|\n",
    "| a | 2 |  7 |\n",
    "| b | 3 |  9 |\n",
    "| c | 4 | 11 |\n"
   ]
  },
  {
   "cell_type": "markdown",
   "metadata": {},
   "source": [
    "Firstly we need to start from a feasible solution that can be constructed by hand.\n",
    "As first guess we choose the patter [3,1,1] i.e. 3 items of lenght 2, 1 of lenght 3 and 1 of lenght 4.\n",
    "We suppose initially to consider 15 stocks. Of course we already know that it will be not the optimal solution since all the deamnd constraints are not only reached but also exceeded.\n",
    "Indeed through with configuration the objective functions $\\Lambda_{[3,1,1]}=15$ while for the constraints we have"
   ]
  },
  {
   "cell_type": "markdown",
   "metadata": {},
   "source": [
    "\n",
    "$$15 \\cdot \\Lambda_{[3,1,1]} = 45 > 7$$\n",
    "$$15 \\cdot \\Lambda_{[3,1,1]} = 15 > 9$$\n",
    "$$15 \\cdot \\Lambda_{[3,1,1]} = 15 > 11$$\n"
   ]
  },
  {
   "cell_type": "markdown",
   "metadata": {},
   "source": [
    "We can express the corresponding dual problem by introducing the variables $(y_1,y_2,y_3)$ as\n",
    "\n",
    "$$\\max 7y_1+9y_2+11y_3$$\n",
    "$$3y_1+y_2+y_3\\leq1$$"
   ]
  },
  {
   "cell_type": "markdown",
   "metadata": {},
   "source": [
    "Since the constrains of the primal are expressed as strict inequality the corresponding $(y_1,y_2,y_3)$ will be take the value of $0$. \n",
    "So from the equations $3y_1+y_2+y_3 = 1$ and $y_1=y_2=y_3=0$ we can deduce that an orthogonal dual solution does not exist since this first  solution of the primal was not basic."
   ]
  },
  {
   "cell_type": "markdown",
   "metadata": {},
   "source": [
    "As second attempt we consider the same patter [3,1,1] but this time we select $\\Lambda_{[3,1,1]} = 11$ in order to have the order of the item \"c\" is saturaded but not overtaken. With this choiche the third inequality constrains becomes an equality and the corresponding dual variable that is $y_3$ equals $0$.\n",
    "This comes from the fact that the first dual variables must be zero because the corresponding constraints in the primal are valid and are strict inequalities. So having $y_1 = 0$ and $y_2 = 0$ and at the same time $3y_1+y_2+y_3=1$ we get the value for $y_3$."
   ]
  },
  {
   "cell_type": "markdown",
   "metadata": {},
   "source": [
    "Now there is a question that naturally arises: if we modify the structure of the pattern by considering another combination of items, is it true that the prevoius solution is still the optimal one? \n",
    "To answer it we need to exploit informations obtained by the dual formulation and reformulate the question: does exist a cutting pattern $[\\alpha, \\beta, \\gamma]$ such that $\\alpha y_1 + \\beta y_2 + \\gamma y_3 > 1$?"
   ]
  },
  {
   "cell_type": "markdown",
   "metadata": {},
   "source": [
    "For this first step the question is traslated into the condition $\\gamma > 1$.\n",
    "So we are going to select a pattern with the third entries greater than $1$ and a possible feasible choice that satisfies the restriction on the initial stock lenght is [2,0,2].\n",
    "We select the following number of cut for each pattern\n",
    "$$\\Lambda_{[3,1,1]}=9$$\n",
    "$$\\Lambda_{[2,0,2]}=1$$\n"
   ]
  },
  {
   "cell_type": "markdown",
   "metadata": {},
   "source": [
    "But there is again the possibility to consider a new pattern to going towards the optimality for the objective function.\n",
    "Thruogh this second iteration the second and third inequalities of the primal formulation are perfectly saturated while this does not happen for the first one that is connected to the first variable of the dual and that implicates $y_1=0$ and rewriting the dual constrainst we get\n",
    "$$y_2 + y_3 = 1$$\n",
    "$$2y_3 = 1$$\n",
    "that is a 2x2 linear system with solution $(y_1, y_2) = \\Big(\\dfrac{1}{2},\\dfrac{1}{2}\\Big)$ and so the arising question is the following: does it exist a cutting pattern with $\\dfrac{\\beta}{2}+\\dfrac{\\gamma}{2}>1$?.\n"
   ]
  },
  {
   "cell_type": "markdown",
   "metadata": {},
   "source": [
    "The only feasible pattern that we can add and that satisfies the last inequality is [0,2,1]."
   ]
  },
  {
   "cell_type": "markdown",
   "metadata": {},
   "source": [
    "To find the best values for each pattern we solve the linear relaxation expressed by\n",
    "$$\\min{\\Lambda_{[3,1,1]}+\\Lambda_{[2,0,2]}+\\Lambda_{[0,2,1]}}$$\n",
    "such that\n",
    "$$3\\Lambda_{[3,1,1]}+2\\Lambda_{[2,0,2]} + \\hspace{1.6cm} \\geq 7$$\n",
    "$$\\Lambda_{[3,1,1]} + \\hspace{1.4cm} + 2 \\Lambda_{[0,2,1]} \\geq 9 $$\n",
    "$$\\Lambda_{[3,1,1]}+2 \\Lambda_{[2,0,2]}+\\Lambda_{[0,2,1]} \\geq 11 $$"
   ]
  },
  {
   "cell_type": "markdown",
   "metadata": {},
   "source": [
    "We also deal with its dual statement\n",
    "$$\\max{7y_1+9y_2+11y_3}$$\n",
    "$$3y_1+y_2+y_3 \\leq 1$$\n",
    "$$2y_1 +\\hspace{0.4cm}+2y_3 \\leq 1$$\n",
    "$$\\hspace{0.7cm}+2y_2+y_3 \\leq 1$$"
   ]
  },
  {
   "cell_type": "markdown",
   "metadata": {},
   "source": [
    "We solve the first one minimization problem through SageMath by the command MixedIntegerLinearProgram:"
   ]
  },
  {
   "cell_type": "code",
   "execution_count": 12,
   "metadata": {},
   "outputs": [
    {
     "name": "stdout",
     "output_type": "stream",
     "text": [
      "Minimization:\n",
      "  x_0 + x_1 + x_2 \n",
      "\n",
      "Constraints:\n",
      "  7.0 <= 3.0 x_0 + 2.0 x_1 \n",
      "  9.0 <= x_0 + 2.0 x_2 \n",
      "  11.0 <= x_0 + 2.0 x_1 + x_2 \n",
      "Variables:\n",
      "  x_0 is a continuous variable (min=-oo, max=+oo)\n",
      "  x_1 is a continuous variable (min=-oo, max=+oo)\n",
      "  x_2 is a continuous variable (min=-oo, max=+oo)\n",
      "Objective Value: 7.800000000000001\n",
      "The optimal values are x_1 = 0.19999999999999987, x_2 = 3.2, x_3 = 4.4\n"
     ]
    }
   ],
   "source": [
    "p=MixedIntegerLinearProgram( maximization=False )\n",
    "p.set_objective( p[1]+p[2]+p[3] ) \n",
    "p.add_constraint( 3*p[1]+2*p[2], min = 7 ) \n",
    "p.add_constraint( p[1]+2*p[3], min = 9 ) \n",
    "p.add_constraint( p[1]+2*p[2]+p[3], min = 11 ) \n",
    "p.solve()\n",
    "p.show()\n",
    "print('Objective Value: {}'.format(p.solve()))\n",
    "print (\"The optimal values are x_1 = \"+str(p.get_values(p[1]))+\", x_2 = \"\n",
    "       +str(p.get_values(p[2]))+\", x_3 = \"+str(p.get_values(p[3])))"
   ]
  },
  {
   "cell_type": "markdown",
   "metadata": {},
   "source": [
    "So optimal values are $\\Lambda_{[3,1,1]}= \\dfrac{1}{5}$, $\\Lambda_{[2,0,2]}= \\dfrac{16}{5}$, $\\Lambda_{[0,2,1]}= \\dfrac{22}{5}$ that give an optimal value of $\\dfrac{39}{5}$.\n",
    "For these values the constraints are perfectly satisfied in terms equality and so also the corresponding dual constraints become equality.\n",
    "Through the 3x3 linear system obtained we can compute a value for $(y_1,y_2,y_3)$ in order to investigate if other possible patterns have to be considered"
   ]
  },
  {
   "cell_type": "code",
   "execution_count": 6,
   "metadata": {},
   "outputs": [
    {
     "name": "stdout",
     "output_type": "stream",
     "text": [
      "(1/10, 3/10, 2/5)\n"
     ]
    }
   ],
   "source": [
    "A = Matrix([[3,1,1],[2,0,2],[0,2,1]])\n",
    "b = vector([1, 1, 1])\n",
    "x = A.solve_right(b)\n",
    "print (x)\n"
   ]
  },
  {
   "cell_type": "markdown",
   "metadata": {},
   "source": [
    "From the linear system we obtain a solution that can be translated into the question: does it exist an admissimible cutting patern with $$\\dfrac{1}{10}\\alpha+\\dfrac{3}{10}\\beta+\\dfrac{2}{5}\\gamma > 1$$\n",
    "\n",
    "For example for [1,3,0], the previous condition becomes 1=1...."
   ]
  },
  {
   "cell_type": "code",
   "execution_count": 21,
   "metadata": {},
   "outputs": [
    {
     "name": "stdout",
     "output_type": "stream",
     "text": [
      "Minimization:\n",
      "  x_0 + x_1 + x_2 + x_3 \n",
      "\n",
      "Constraints:\n",
      "  7.0 <= 3.0 x_0 + 2.0 x_1 + x_3 \n",
      "  9.0 <= x_0 + 2.0 x_2 + 3.0 x_3 \n",
      "  11.0 <= x_0 + 2.0 x_1 + x_2 \n",
      "Variables:\n",
      "  x_0 is a continuous variable (min=-oo, max=+oo)\n",
      "  x_1 is a continuous variable (min=-oo, max=+oo)\n",
      "  x_2 is a continuous variable (min=-oo, max=+oo)\n",
      "  x_3 is a continuous variable (min=-oo, max=+oo)\n",
      "Objective Value: 7.800000000000001\n",
      "The optimal values are x_1 = 0.19999999999999987, x_2 = 3.2, x_3 = 4.4, x_4 = 0.0\n"
     ]
    }
   ],
   "source": [
    "p=MixedIntegerLinearProgram( maximization=False )\n",
    "p.set_objective( p[1]+p[2]+p[3]+p[4] ) \n",
    "p.add_constraint( 3*p[1]+2*p[2]+p[4], min = 7 ) \n",
    "p.add_constraint( p[1]+2*p[3]+3*p[4], min = 9 ) \n",
    "p.add_constraint( p[1]+2*p[2]+p[3], min = 11 ) \n",
    "p.solve()\n",
    "p.show()\n",
    "print('Objective Value: {}'.format(p.solve()))\n",
    "print (\"The optimal values are x_1 = \"+str(p.get_values(p[1]))+\", x_2 = \"\n",
    "       +str(p.get_values(p[2]))+\", x_3 = \"+str(p.get_values(p[3]))+\n",
    "       \", x_4 = \"+str(p.get_values(p[4])))"
   ]
  },
  {
   "cell_type": "markdown",
   "metadata": {},
   "source": [
    "A possibile solution for the integer formulation can be formulated 1x$[3,1,1]$, 3x$[2,0,2]$ and 4x$[0,2,1]$ that imply the use of 8 initial bars.\n"
   ]
  },
  {
   "cell_type": "markdown",
   "metadata": {},
   "source": [
    "### Example 2\n",
    "\n",
    "Inital stock lenght W=30\n",
    "\n",
    "| Item   |      Lenght      |  Orders |\n",
    "|-----|:-------------:|:------:|\n",
    "| a | 4 |  40 |\n",
    "| b | 7 |  30 |\n",
    "| c | 8 | 25  |\n",
    "| d |11 |  20 | \n"
   ]
  },
  {
   "cell_type": "markdown",
   "metadata": {},
   "source": [
    "Formulation of the primal minimization problem where $\\Lambda_i$ represent the number of cuts for each pattern $i$.\n",
    "\n",
    "$$\\min \\sum{\\Lambda_i}$$\n",
    "\n",
    "As first guess consider pattern [1,1,1,1] with multiplicity $\\Lambda_{[1,1,1,1]} = 40$ enough to have the first order filled.\n",
    "\n",
    "Constraints:\n",
    "$$40 \\cdot \\Lambda_{[1,1,1,1]} = 40$$\n",
    "$$40 \\cdot \\Lambda_{[1,1,1,1]} \\geq 30$$\n",
    "$$40 \\cdot \\Lambda_{[1,1,1,1]} \\geq 25$$\n",
    "$$40 \\cdot \\Lambda_{[1,1,1,1]} \\geq 20$$\n",
    "\n",
    "Also its dual formulation is necessary\n",
    "$$\\max 40y_1+30y_2+25y_3+20y_4$$\n",
    "$$y_1+y_2+y_3+y_4 \\leq 1$$\n",
    "\n",
    "\n"
   ]
  },
  {
   "cell_type": "markdown",
   "metadata": {},
   "source": [
    "Since second, third and fourth inequalities are true in strict sense while  the first inequality is achieved in terms of equality, the correspondig variable $y_1$ is equal to one by the dual constraint written in terms of equality.\n",
    "According to this we can write the condition for a new hypotetic pattern $[\\alpha, \\beta, \\gamma, \\delta]$ requiring $\\alpha > 1$.\n",
    "A possible pattern is for example [3,1,0,1] and with this choice the solution can be selected as\n",
    "$$\\Lambda_{[1,1,1,1]}=25$$\n",
    "$$\\Lambda_{[3,1,0,1]}=5$$\n",
    "And the process starts iterating: the only inequality that holds strictly is the fourth that implies $y_4=0$."
   ]
  },
  {
   "cell_type": "markdown",
   "metadata": {},
   "source": [
    "So the related knapsack problem to solve can be written as\n",
    "$$\\max{40y_1+30y_2+25y_3}  $$\n",
    "subject to\n",
    "$$y_1+y_2+y_3 \\leq 1$$\n",
    "$$3y_1+y_2 \\leq 1$$"
   ]
  },
  {
   "cell_type": "code",
   "execution_count": 24,
   "metadata": {},
   "outputs": [
    {
     "name": "stdout",
     "output_type": "stream",
     "text": [
      "Maximization:\n",
      "  40.0 x_0 + 30.0 x_1 + 25.0 x_2 \n",
      "\n",
      "Constraints:\n",
      "  x_0 + x_1 + x_2 <= 1.0\n",
      "  3.0 x_0 + x_1 <= 1.0\n",
      "Variables:\n",
      "  x_0 is a continuous variable (min=-oo, max=+oo)\n",
      "  x_1 is a continuous variable (min=-oo, max=+oo)\n",
      "  x_2 is a continuous variable (min=-oo, max=+oo)\n",
      "Objective Value: 30.0\n",
      "The optimal values are x_1 = 0.3333333333333333, x_2 = 0.0, x_3 = 0.6666666666666667\n"
     ]
    }
   ],
   "source": [
    "p=MixedIntegerLinearProgram( maximization=True )\n",
    "p.set_objective( 40*p[1]+30*p[2]+25*p[3]) \n",
    "p.add_constraint( p[1]+p[2]+p[3]<= 1 ) \n",
    "p.add_constraint( 3*p[1]+p[2] <= 1 ) \n",
    "p.solve()\n",
    "p.show()\n",
    "print('Objective Value: {}'.format(p.solve()))\n",
    "print (\"The optimal values are x_1 = \"+str(p.get_values(p[1]))+\", x_2 = \"\n",
    "       +str(p.get_values(p[2]))+\", x_3 = \"+str(p.get_values(p[3])))"
   ]
  },
  {
   "cell_type": "markdown",
   "metadata": {},
   "source": [
    "That has solution $$(y_1,y_2,y_3) = \\Big(\\dfrac{1}{3},0,\\dfrac{2}{3}\\Big)$$ and the conditon for the next cutting pattern becomes:\n",
    "$$\\dfrac{1}{3}\\alpha + \\dfrac{2}{3}\\gamma > 1$$\n",
    "But also $(0,1,0,0)$ and $(\\dfrac{1}{5},\\dfrac{2}{5},\\dfrac{2}{5},0)$\n",
    "with the related conditions \n",
    "$$\\beta > 1$$\n",
    "$$\\dfrac{1}{5}\\alpha + \\dfrac{2}{5}\\beta + \\dfrac{2}{5}\\gamma > 1$$\n",
    "that suggest to choose [2,2,1,0] to advance with the algorithm. "
   ]
  },
  {
   "cell_type": "markdown",
   "metadata": {},
   "source": [
    "The possible cutting-pattern are [1,1,1,1],[2,2,1,0] and [3,1,0,1] and we solve the LP minimization problem to compute how many times they occur.\n",
    "$$\\min{\\Lambda_{[1,1,1,1]}+\\Lambda_{[2,2,1,0]}+\\Lambda_{[3,1,0,1]}}$$\n",
    "subject to\n",
    "$$\\Lambda_{[1,1,1,1]}+2 \\Lambda_{[2,2,1,0]}+3\\Lambda_{[3,1,0,1]} \\geq 40$$\n",
    "$$\\Lambda_{[1,1,1,1]}+2  \\Lambda_{[2,2,1,0]}+\\Lambda_{[3,1,0,1]} \\geq 30$$\n",
    "$$\\Lambda_{[1,1,1,1]}+ \\Lambda_{[2,2,1,0]}+\\hspace{1.8cm} \\geq 25$$\n",
    "$$\\Lambda_{[1,1,1,1]}+\\hspace{1.8cm}+\\Lambda_{[3,1,0,1]} \\geq 20$$\n",
    "\n"
   ]
  },
  {
   "cell_type": "code",
   "execution_count": 28,
   "metadata": {},
   "outputs": [
    {
     "name": "stdout",
     "output_type": "stream",
     "text": [
      "Minimization:\n",
      "  x_0 + x_1 + x_2 \n",
      "\n",
      "Constraints:\n",
      "  - x_0 - 2.0 x_1 - 3.0 x_2 <= -40.0\n",
      "  - x_0 - 2.0 x_1 - x_2 <= -30.0\n",
      "  - x_0 - x_1 <= -25.0\n",
      "  - x_0 - x_2 <= -20.0\n",
      "Variables:\n",
      "  x_0 is a continuous variable (min=-oo, max=+oo)\n",
      "  x_1 is a continuous variable (min=-oo, max=+oo)\n",
      "  x_2 is a continuous variable (min=-oo, max=+oo)\n",
      "Objective Value: 27.5\n",
      "The optimal values are x_1 = 17.5, x_2 = 7.5, x_3 = 2.5\n"
     ]
    }
   ],
   "source": [
    "p=MixedIntegerLinearProgram( maximization=False )\n",
    "p.set_objective( p[1]+p[2]+p[3]) \n",
    "p.add_constraint( p[1]+2*p[2]+3*p[3]>=40 ) \n",
    "p.add_constraint( p[1]+2*p[2]+p[3]>=30 ) \n",
    "p.add_constraint( p[1]+p[2]>=25 ) \n",
    "p.add_constraint( p[1]+p[3]>= 20 ) \n",
    "p.solve()\n",
    "p.show()\n",
    "print('Objective Value: {}'.format(p.solve()))\n",
    "print (\"The optimal values are x_1 = \"+str(p.get_values(p[1]))+\", x_2 = \"\n",
    "       +str(p.get_values(p[2]))+\", x_3 = \"+str(p.get_values(p[3])))"
   ]
  },
  {
   "cell_type": "markdown",
   "metadata": {},
   "source": [
    "The optimal values for each pattern are $$\\Big(\\Lambda_{[1,1,1,1]}, \\Lambda_{[2,2,1,0]}, \\Lambda_{[3,1,0,1]}\\Big)=\\Big(\\dfrac{35}{2},\\dfrac{15}{2},\\dfrac{5}{2}\\Big)$$. Evaluating these values in the constraints of the primal problem it occurs that the only inequality strictly holding is the second one $\\Lambda_{[1,1,1,1]}+2  \\Lambda_{[2,2,1,0]}+\\Lambda_{[3,1,0,1]} \\geq 30$ i.e. $35>30$.\n",
    "This implies that the corrispettive dual variable $y_2$ has to be equal to $0$. Therefore we write the dual LP problem that is expressed in maximization terms:\n",
    "$$\\max{40y_1+30y_2+25y_3+20y_4}$$\n",
    "$$y_1+y_2+y_3+y_4 \\leq 1$$\n",
    "$$2y_1+2y_2+y_3+\\hspace{0.4cm} \\leq 1$$\n",
    "$$3y_1+y_2+\\hspace{0.4cm}+y_4 \\leq 1$$\n",
    "\n",
    "\n"
   ]
  },
  {
   "cell_type": "code",
   "execution_count": 37,
   "metadata": {},
   "outputs": [
    {
     "name": "stdout",
     "output_type": "stream",
     "text": [
      "(1/4, 1/2, 1/4)\n"
     ]
    }
   ],
   "source": [
    "A = Matrix([[1,1,1],[2,1,0],[3,0,1]])\n",
    "b = vector([1, 1, 1])\n",
    "x = A.solve_right(b)\n",
    "print (x)\n",
    "\n"
   ]
  },
  {
   "cell_type": "markdown",
   "metadata": {},
   "source": [
    "So a feasible solution optimizing the dual problem is $$\\Big(y_1,y_2,y_3,y_4\\Big) = \\Big(\\dfrac{1}{4},0,\\dfrac{1}{2},\\dfrac{1}{4}\\Big)$$\n",
    "that implies \n",
    "$$\\dfrac{1}{4}\\alpha + \\dfrac{1}{2} \\gamma + \\dfrac{1}{4}\\delta \\geq 1$$\n"
   ]
  },
  {
   "cell_type": "markdown",
   "metadata": {},
   "source": [
    "We add to the previous pattern $[1,1,1,1]$,$[2,2,1,0]$,$[3,1,0,1]$ the one $[5,0,1,0]$ chosen to enforce the last condition and we solve the related LP relaxation."
   ]
  },
  {
   "cell_type": "code",
   "execution_count": 38,
   "metadata": {},
   "outputs": [
    {
     "name": "stdout",
     "output_type": "stream",
     "text": [
      "Objective Value: 26.42857142857143\n",
      "The optimal values are x_1 = 18.57142857142857, x_2 = 5.0000000000000036, x_3 = 1.4285714285714293, x_4 = 1.4285714285714264\n"
     ]
    }
   ],
   "source": [
    "p=MixedIntegerLinearProgram( maximization=False )\n",
    "p.set_objective( p[1]+p[2]+p[3]+p[4]) \n",
    "p.add_constraint( p[1]+2*p[2]+3*p[3]+5*p[4], min = 40 ) \n",
    "p.add_constraint( p[1]+2*p[2]+p[3], min = 30 ) \n",
    "p.add_constraint( p[1]+p[2]+p[4], min = 25 ) \n",
    "p.add_constraint( p[1]+p[3], min = 20 ) \n",
    "p.solve()\n",
    "print('Objective Value: {}'.format(p.solve()))\n",
    "print (\"The optimal values are x_1 = \"+str(p.get_values(p[1]))+\", x_2 = \"\n",
    "       +str(p.get_values(p[2]))+\", x_3 = \"+str(p.get_values(p[3]))+\n",
    "       \", x_4 = \"+str(p.get_values(p[4])))"
   ]
  },
  {
   "cell_type": "code",
   "execution_count": 20,
   "metadata": {},
   "outputs": [
    {
     "name": "stdout",
     "output_type": "stream",
     "text": [
      "39.9999885714286\n",
      "29.9999985714286\n",
      "24.9999985714286\n",
      "19.9999985714286\n"
     ]
    }
   ],
   "source": [
    "print(18.57142857142857+2*5+3*1.42857+5*1.42857)\n",
    "print(18.57142857142857+2*5+1.42857)\n",
    "print(18.57142857142857+5+1.42857)\n",
    "print(18.57142857142857+1.42857)\n"
   ]
  },
  {
   "cell_type": "markdown",
   "metadata": {},
   "source": [
    "The dual problem has the following structure\n",
    "$$\\max{40y_1+30y_2+25y_3+20y_4}$$\n",
    "$$y_1+y_2+y_3+y_4 \\leq 1$$\n",
    "$$2y_1+2y_2+y_3+\\hspace{0.4cm} \\leq 1$$\n",
    "$$3y_1+y_2+\\hspace{0.4cm}+y_4 \\leq 1$$\n",
    "$$5y_1+\\hspace{0.4cm}+y_3+\\hspace{0.4cm} \\leq 1$$"
   ]
  },
  {
   "cell_type": "code",
   "execution_count": 25,
   "metadata": {},
   "outputs": [
    {
     "name": "stdout",
     "output_type": "stream",
     "text": [
      "(1/7, 3/14, 2/7, 5/14)\n"
     ]
    }
   ],
   "source": [
    "A = Matrix([[1,1,1,1],[2,2,1,0],[3,1,0,1],[5,0,1,0]])\n",
    "b = vector([1, 1,1, 1])\n",
    "x = A.solve_right(b)\n",
    "print (x)"
   ]
  },
  {
   "cell_type": "markdown",
   "metadata": {},
   "source": [
    "That is traduces into $$\\dfrac{1}{7}\\alpha+\\dfrac{3}{14}\\beta+\\dfrac{2}{7}\\gamma+\\dfrac{5}{14}\\delta$$\n",
    "that suggests to add the pattern $[0,2,2,0]$ to the current solution.  "
   ]
  },
  {
   "cell_type": "code",
   "execution_count": 41,
   "metadata": {},
   "outputs": [
    {
     "name": "stdout",
     "output_type": "stream",
     "text": [
      "Objective Value: 26.428571428571427\n",
      "The optimal values are x_1 = 0.0, x_2 = -13.571428571428571, x_3 = 20.0, x_4 = 1.4285714285714277, x_5 = 18.57142857142857\n"
     ]
    }
   ],
   "source": [
    "p=MixedIntegerLinearProgram( maximization=False )\n",
    "p.set_objective( p[1]+p[2]+p[3]+p[4]+p[5]) \n",
    "p.add_constraint( p[1]+2*p[2]+3*p[3]+5*p[4], min = 40 ) \n",
    "p.add_constraint( p[1]+2*p[2]+p[3]+2*p[5], min = 30 ) \n",
    "p.add_constraint( p[1]+p[2]+p[4]+2*p[5], min = 25 ) \n",
    "p.add_constraint( p[1]+p[3], min = 20 ) \n",
    "p.solve()\n",
    "print('Objective Value: {}'.format(p.solve()))\n",
    "print (\"The optimal values are x_1 = \"+str(p.get_values(p[1]))+\", x_2 = \"\n",
    "       +str(p.get_values(p[2]))+\", x_3 = \"+str(p.get_values(p[3]))+\", x_4 = \"\n",
    "       +str(p.get_values(p[4]))+\", x_5 = \"+str(p.get_values(p[5])))"
   ]
  },
  {
   "cell_type": "code",
   "execution_count": 42,
   "metadata": {},
   "outputs": [
    {
     "name": "stdout",
     "output_type": "stream",
     "text": [
      "Objective Value: 26.42857142857143\n",
      "The optimal values are x_1 = 13.57142857142857, x_2 = 0.0, x_3 = 6.428571428571429, x_4 = 1.4285714285714286, x_5 = 5.000000000000002\n"
     ]
    }
   ],
   "source": [
    "p=MixedIntegerLinearProgram( maximization=False )\n",
    "w = p.new_variable(integer=False, nonnegative=True)\n",
    "p.set_objective( w[1]+w[2]+w[3]+w[4]+w[5]) \n",
    "p.add_constraint( w[1]+2*w[2]+3*w[3]+5*w[4], min = 40 ) \n",
    "p.add_constraint( w[1]+2*w[2]+w[3]+2*w[5], min = 30 ) \n",
    "p.add_constraint( w[1]+w[2]+w[4]+2*w[5], min = 25 ) \n",
    "p.add_constraint( w[1]+w[3], min = 20 ) \n",
    "p.solve()\n",
    "print('Objective Value: {}'.format(p.solve()))\n",
    "print (\"The optimal values are x_1 = \"+str(p.get_values(w[1]))+\", x_2 = \"\n",
    "       +str(p.get_values(w[2]))+\", x_3 = \"+str(p.get_values(w[3]))+\n",
    "       \", x_4 = \"+str(p.get_values(w[4]))+\", x_5 = \"+str(p.get_values(w[5])))"
   ]
  },
  {
   "cell_type": "code",
   "execution_count": 44,
   "metadata": {},
   "outputs": [
    {
     "name": "stdout",
     "output_type": "stream",
     "text": [
      "(1/7, 3/14, 2/7, 5/14)\n"
     ]
    }
   ],
   "source": [
    "A = Matrix([[1,1,1,1],[2,2,1,0],[3,1,0,1],[5,0,1,0],[0,2,2,0]])\n",
    "b = vector([1,1,1,1, 1])\n",
    "x = A.solve_right(b)\n",
    "print (x)"
   ]
  },
  {
   "cell_type": "markdown",
   "metadata": {},
   "source": [
    "Since the objective function of the primal is not improved and also the condition retrieved from the dual does not change from the previous iteration, we are sure that the greedy algorithm can be stopped and that we are dealing with the optimal solution."
   ]
  }
 ],
 "metadata": {
  "kernelspec": {
   "display_name": "SageMath 8.8",
   "language": "sage",
   "name": "sagemath"
  },
  "language_info": {
   "codemirror_mode": {
    "name": "ipython",
    "version": 3
   },
   "file_extension": ".py",
   "mimetype": "text/x-python",
   "name": "python",
   "nbconvert_exporter": "python",
   "pygments_lexer": "ipython3",
   "version": "3.7.3"
  }
 },
 "nbformat": 4,
 "nbformat_minor": 4
}
